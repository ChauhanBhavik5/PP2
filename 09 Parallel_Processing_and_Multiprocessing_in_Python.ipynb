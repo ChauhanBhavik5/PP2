{
 "cells": [
  {
   "cell_type": "markdown",
   "id": "f08cbb6d",
   "metadata": {},
   "source": [
    "# 🧪 PP2 Lab Practical – Parallel Processing and Multiprocessing in Python\n",
    "**Aim:**\n",
    "*To demonstrate parallel execution of code using multiprocessing module and analyze performance benefits.*"
   ]
  },
  {
   "cell_type": "markdown",
   "id": "1b16b0fc",
   "metadata": {},
   "source": [
    "## Task 1\n",
    "### ➤ Create a multiprocessing example to calculate square and cube."
   ]
  },
  {
   "cell_type": "code",
   "execution_count": null,
   "id": "3e13fd64",
   "metadata": {},
   "outputs": [],
   "source": [
    "# Your code here"
   ]
  },
  {
   "cell_type": "markdown",
   "id": "fd382273",
   "metadata": {},
   "source": [
    "## Task 2\n",
    "### ➤ Run a function across multiple cores using Pool."
   ]
  },
  {
   "cell_type": "code",
   "execution_count": null,
   "id": "f69dea93",
   "metadata": {},
   "outputs": [],
   "source": [
    "# Your code here"
   ]
  },
  {
   "cell_type": "markdown",
   "id": "fd186636",
   "metadata": {},
   "source": [
    "## Task 3\n",
    "### ➤ Compare execution time with and without multiprocessing."
   ]
  },
  {
   "cell_type": "code",
   "execution_count": null,
   "id": "0279e82b",
   "metadata": {},
   "outputs": [],
   "source": [
    "# Your code here"
   ]
  },
  {
   "cell_type": "markdown",
   "id": "520ae3c6",
   "metadata": {},
   "source": [
    "## Task 4\n",
    "### ➤ Mini Task: Parallelize a for loop using Process/Pool."
   ]
  },
  {
   "cell_type": "code",
   "execution_count": null,
   "id": "186491c4",
   "metadata": {},
   "outputs": [],
   "source": [
    "# Your code here"
   ]
  },
  {
   "cell_type": "markdown",
   "id": "07e7ab44",
   "metadata": {},
   "source": [
    "## ✅ Conclusion\n",
    "Write your observations about:\n",
    "- What you learned\n",
    "- Any errors encountered\n",
    "- Real-world application of this topic"
   ]
  },
  {
   "cell_type": "markdown",
   "id": "7765d0cc",
   "metadata": {},
   "source": [
    "Your notes here..."
   ]
  }
 ],
 "metadata": {},
 "nbformat": 4,
 "nbformat_minor": 5
}
