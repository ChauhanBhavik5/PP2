{
 "cells": [
  {
   "cell_type": "markdown",
   "id": "784a73a4",
   "metadata": {},
   "source": [
    "# 🧪 PP2 Lab Practical – Hashing and Hashing Trick using Scikit-learn\n",
    "**Aim:**\n",
    "*To understand and implement hashing and hashing trick using scikit-learn and analyze performance using profiling tools.*"
   ]
  },
  {
   "cell_type": "markdown",
   "id": "e1656bc1",
   "metadata": {},
   "source": [
    "## Task 1\n",
    "### ➤ Use sklearn’s HashingVectorizer to convert text to vector."
   ]
  },
  {
   "cell_type": "code",
   "execution_count": null,
   "id": "424806cc",
   "metadata": {},
   "outputs": [],
   "source": [
    "# Your code here"
   ]
  },
  {
   "cell_type": "markdown",
   "id": "6a77573c",
   "metadata": {},
   "source": [
    "## Task 2\n",
    "### ➤ Demonstrate how hash collisions may occur."
   ]
  },
  {
   "cell_type": "code",
   "execution_count": null,
   "id": "f923c3a1",
   "metadata": {},
   "outputs": [],
   "source": [
    "# Your code here"
   ]
  },
  {
   "cell_type": "markdown",
   "id": "03273262",
   "metadata": {},
   "source": [
    "## Task 3\n",
    "### ➤ Measure memory usage using memory_profiler."
   ]
  },
  {
   "cell_type": "code",
   "execution_count": null,
   "id": "8278f10a",
   "metadata": {},
   "outputs": [],
   "source": [
    "# Your code here"
   ]
  },
  {
   "cell_type": "markdown",
   "id": "ad22dc04",
   "metadata": {},
   "source": [
    "## Task 4\n",
    "### ➤ Benchmark execution time using timeit."
   ]
  },
  {
   "cell_type": "code",
   "execution_count": null,
   "id": "5ace8adb",
   "metadata": {},
   "outputs": [],
   "source": [
    "# Your code here"
   ]
  },
  {
   "cell_type": "markdown",
   "id": "5f24b2ba",
   "metadata": {},
   "source": [
    "## Task 5\n",
    "### ➤ Mini Task: Compare performance of two functions using timeit."
   ]
  },
  {
   "cell_type": "code",
   "execution_count": null,
   "id": "75b5e6f6",
   "metadata": {},
   "outputs": [],
   "source": [
    "# Your code here"
   ]
  },
  {
   "cell_type": "markdown",
   "id": "e588d230",
   "metadata": {},
   "source": [
    "## ✅ Conclusion\n",
    "Write your observations about:\n",
    "- What you learned\n",
    "- Any errors encountered\n",
    "- Real-world application of this topic"
   ]
  },
  {
   "cell_type": "markdown",
   "id": "458eb10b",
   "metadata": {},
   "source": [
    "Your notes here..."
   ]
  }
 ],
 "metadata": {},
 "nbformat": 4,
 "nbformat_minor": 5
}
