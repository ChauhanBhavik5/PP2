{
 "cells": [
  {
   "cell_type": "markdown",
   "id": "af3b427c",
   "metadata": {},
   "source": [
    "# 🧪 PP2 Lab Practical – Date and Time in Python\n",
    "**Aim:**\n",
    "*To perform various operations with date and time such as formatting, comparison, duration calculation, and calendar display in Python.*"
   ]
  },
  {
   "cell_type": "markdown",
   "id": "d75d8857",
   "metadata": {},
   "source": [
    "## Task 1\n",
    "### ➤ Display current date and time in various formats."
   ]
  },
  {
   "cell_type": "code",
   "execution_count": null,
   "id": "7338348c",
   "metadata": {},
   "outputs": [],
   "source": [
    "# Your code here"
   ]
  },
  {
   "cell_type": "markdown",
   "id": "2f98228d",
   "metadata": {},
   "source": [
    "## Task 2\n",
    "### ➤ Calculate the difference between two dates using timedelta."
   ]
  },
  {
   "cell_type": "code",
   "execution_count": null,
   "id": "6b7426a7",
   "metadata": {},
   "outputs": [],
   "source": [
    "# Your code here"
   ]
  },
  {
   "cell_type": "markdown",
   "id": "868ea471",
   "metadata": {},
   "source": [
    "## Task 3\n",
    "### ➤ Sort a list of dates chronologically."
   ]
  },
  {
   "cell_type": "code",
   "execution_count": null,
   "id": "d9f35da4",
   "metadata": {},
   "outputs": [],
   "source": [
    "# Your code here"
   ]
  },
  {
   "cell_type": "markdown",
   "id": "9d6f81f8",
   "metadata": {},
   "source": [
    "## Task 4\n",
    "### ➤ Pause execution for a few seconds and measure execution time."
   ]
  },
  {
   "cell_type": "code",
   "execution_count": null,
   "id": "617513d4",
   "metadata": {},
   "outputs": [],
   "source": [
    "# Your code here"
   ]
  },
  {
   "cell_type": "markdown",
   "id": "ee727ac5",
   "metadata": {},
   "source": [
    "## Task 5\n",
    "### ➤ Display calendar for a specific year/month using calendar module."
   ]
  },
  {
   "cell_type": "code",
   "execution_count": null,
   "id": "9a692957",
   "metadata": {},
   "outputs": [],
   "source": [
    "# Your code here"
   ]
  },
  {
   "cell_type": "markdown",
   "id": "90a30fc8",
   "metadata": {},
   "source": [
    "## ✅ Conclusion\n",
    "Write your observations about:\n",
    "- What you learned\n",
    "- Any errors encountered\n",
    "- Real-world application of this topic"
   ]
  },
  {
   "cell_type": "markdown",
   "id": "c1ad53f6",
   "metadata": {},
   "source": [
    "Your notes here..."
   ]
  }
 ],
 "metadata": {},
 "nbformat": 4,
 "nbformat_minor": 5
}
