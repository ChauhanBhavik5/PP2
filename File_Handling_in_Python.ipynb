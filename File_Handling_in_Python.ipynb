{
 "cells": [
  {
   "cell_type": "markdown",
   "id": "8efc20be",
   "metadata": {},
   "source": [
    "# 🧪 PP2 Lab Practical – File Handling in Python\n",
    "**Aim:**\n",
    "*To perform file handling operations in Python such as reading, writing, seeking, and checking the existence of text and binary files using appropriate file methods.*"
   ]
  },
  {
   "cell_type": "markdown",
   "id": "75fd8fa2",
   "metadata": {},
   "source": [
    "## Task 1\n",
    "### ➤ Open a text file and print its content."
   ]
  },
  {
   "cell_type": "code",
   "execution_count": null,
   "id": "fe62acec",
   "metadata": {},
   "outputs": [],
   "source": [
    "# Your code here"
   ]
  },
  {
   "cell_type": "markdown",
   "id": "de395e30",
   "metadata": {},
   "source": [
    "## Task 2\n",
    "### ➤ Write multiple lines to a text file, then read and print them."
   ]
  },
  {
   "cell_type": "code",
   "execution_count": null,
   "id": "2e4d47bc",
   "metadata": {},
   "outputs": [],
   "source": [
    "# Your code here"
   ]
  },
  {
   "cell_type": "markdown",
   "id": "d5818618",
   "metadata": {},
   "source": [
    "## Task 3\n",
    "### ➤ Work with binary files: Write and read back binary data."
   ]
  },
  {
   "cell_type": "code",
   "execution_count": null,
   "id": "37954f1b",
   "metadata": {},
   "outputs": [],
   "source": [
    "# Your code here"
   ]
  },
  {
   "cell_type": "markdown",
   "id": "64293975",
   "metadata": {},
   "source": [
    "## Task 4\n",
    "### ➤ Use seek() and tell() to manipulate file pointer."
   ]
  },
  {
   "cell_type": "code",
   "execution_count": null,
   "id": "950e4b52",
   "metadata": {},
   "outputs": [],
   "source": [
    "# Your code here"
   ]
  },
  {
   "cell_type": "markdown",
   "id": "0c163caa",
   "metadata": {},
   "source": [
    "## Task 5\n",
    "### ➤ Check whether a file exists using os or pathlib."
   ]
  },
  {
   "cell_type": "code",
   "execution_count": null,
   "id": "28e67983",
   "metadata": {},
   "outputs": [],
   "source": [
    "# Your code here"
   ]
  },
  {
   "cell_type": "markdown",
   "id": "fa94e745",
   "metadata": {},
   "source": [
    "## Task 6\n",
    "### ➤ Create directories, write files, and list contents."
   ]
  },
  {
   "cell_type": "code",
   "execution_count": null,
   "id": "2b6f9c18",
   "metadata": {},
   "outputs": [],
   "source": [
    "# Your code here"
   ]
  },
  {
   "cell_type": "markdown",
   "id": "00ea5066",
   "metadata": {},
   "source": [
    "## Task 7\n",
    "### ➤ Zip and unzip files using Python."
   ]
  },
  {
   "cell_type": "code",
   "execution_count": null,
   "id": "0cc2e9ed",
   "metadata": {},
   "outputs": [],
   "source": [
    "# Your code here"
   ]
  },
  {
   "cell_type": "markdown",
   "id": "495210b7",
   "metadata": {},
   "source": [
    "## Task 8\n",
    "### ➤ Run a system command (calc/ls) using subprocess."
   ]
  },
  {
   "cell_type": "code",
   "execution_count": null,
   "id": "23f201ef",
   "metadata": {},
   "outputs": [],
   "source": [
    "# Your code here"
   ]
  },
  {
   "cell_type": "markdown",
   "id": "e6495794",
   "metadata": {},
   "source": [
    "## Task 9\n",
    "### ➤ Mini Task: Create a folder, write file, zip it, delete if exists."
   ]
  },
  {
   "cell_type": "code",
   "execution_count": null,
   "id": "052754bc",
   "metadata": {},
   "outputs": [],
   "source": [
    "# Your code here"
   ]
  },
  {
   "cell_type": "markdown",
   "id": "e4e385c5",
   "metadata": {},
   "source": [
    "## ✅ Conclusion\n",
    "Write your observations about:\n",
    "- What you learned\n",
    "- Any errors encountered\n",
    "- Real-world application of this topic"
   ]
  },
  {
   "cell_type": "markdown",
   "id": "4c133b91",
   "metadata": {},
   "source": [
    "Your notes here..."
   ]
  }
 ],
 "metadata": {},
 "nbformat": 4,
 "nbformat_minor": 5
}
