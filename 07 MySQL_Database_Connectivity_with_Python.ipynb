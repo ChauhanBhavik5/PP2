{
 "cells": [
  {
   "cell_type": "markdown",
   "id": "2de94812",
   "metadata": {},
   "source": [
    "# 🧪 PP2 Lab Practical – MySQL Database Connectivity with Python\n",
    "**Aim:**\n",
    "*To connect Python with MySQL database and perform CRUD operations using SQL queries via connector module.*"
   ]
  },
  {
   "cell_type": "markdown",
   "id": "5f5f8f20",
   "metadata": {},
   "source": [
    "## Task 1\n",
    "### ➤ Connect to MySQL and create a database."
   ]
  },
  {
   "cell_type": "code",
   "execution_count": null,
   "id": "b7e39581",
   "metadata": {},
   "outputs": [],
   "source": [
    "# Your code here"
   ]
  },
  {
   "cell_type": "markdown",
   "id": "b0007ef5",
   "metadata": {},
   "source": [
    "## Task 2\n",
    "### ➤ Create a table and insert multiple records."
   ]
  },
  {
   "cell_type": "code",
   "execution_count": null,
   "id": "e0170173",
   "metadata": {},
   "outputs": [],
   "source": [
    "# Your code here"
   ]
  },
  {
   "cell_type": "markdown",
   "id": "bca6de48",
   "metadata": {},
   "source": [
    "## Task 3\n",
    "### ➤ Retrieve and display records from the table."
   ]
  },
  {
   "cell_type": "code",
   "execution_count": null,
   "id": "5bef1778",
   "metadata": {},
   "outputs": [],
   "source": [
    "# Your code here"
   ]
  },
  {
   "cell_type": "markdown",
   "id": "e9aac0e0",
   "metadata": {},
   "source": [
    "## Task 4\n",
    "### ➤ Update and delete specific records using queries."
   ]
  },
  {
   "cell_type": "code",
   "execution_count": null,
   "id": "a27e107a",
   "metadata": {},
   "outputs": [],
   "source": [
    "# Your code here"
   ]
  },
  {
   "cell_type": "markdown",
   "id": "d6852403",
   "metadata": {},
   "source": [
    "## Task 5\n",
    "### ➤ Mini Task: Create a student table and perform all CRUD operations."
   ]
  },
  {
   "cell_type": "code",
   "execution_count": null,
   "id": "9e046bed",
   "metadata": {},
   "outputs": [],
   "source": [
    "# Your code here"
   ]
  },
  {
   "cell_type": "markdown",
   "id": "8c7829b1",
   "metadata": {},
   "source": [
    "## ✅ Conclusion\n",
    "Write your observations about:\n",
    "- What you learned\n",
    "- Any errors encountered\n",
    "- Real-world application of this topic"
   ]
  },
  {
   "cell_type": "markdown",
   "id": "35b91a02",
   "metadata": {},
   "source": [
    "Your notes here..."
   ]
  }
 ],
 "metadata": {},
 "nbformat": 4,
 "nbformat_minor": 5
}
