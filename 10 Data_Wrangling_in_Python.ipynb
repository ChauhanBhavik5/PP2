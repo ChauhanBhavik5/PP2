{
 "cells": [
  {
   "cell_type": "markdown",
   "id": "239f6686",
   "metadata": {},
   "source": [
    "# 🧪 PP2 Lab Practical – Data Wrangling in Python\n",
    "**Aim:**\n",
    "*To perform data wrangling using scikit-learn, hashing, timing, memory profiling, and parallel execution in Python.*"
   ]
  },
  {
   "cell_type": "markdown",
   "id": "a3561e1b",
   "metadata": {},
   "source": [
    "## Task 1\n",
    "### ➤ Import and inspect a dataset using pandas."
   ]
  },
  {
   "cell_type": "code",
   "execution_count": null,
   "id": "0c3f7ec7",
   "metadata": {},
   "outputs": [],
   "source": [
    "# Your code here"
   ]
  },
  {
   "cell_type": "markdown",
   "id": "6990c1a5",
   "metadata": {},
   "source": [
    "## Task 2\n",
    "### ➤ Clean the dataset by handling missing values and duplicate entries."
   ]
  },
  {
   "cell_type": "code",
   "execution_count": null,
   "id": "25c6225f",
   "metadata": {},
   "outputs": [],
   "source": [
    "# Your code here"
   ]
  },
  {
   "cell_type": "markdown",
   "id": "e84d6705",
   "metadata": {},
   "source": [
    "## Task 3\n",
    "### ➤ Use sklearn’s HashingVectorizer to transform textual data."
   ]
  },
  {
   "cell_type": "code",
   "execution_count": null,
   "id": "8b5794de",
   "metadata": {},
   "outputs": [],
   "source": [
    "# Your code here"
   ]
  },
  {
   "cell_type": "markdown",
   "id": "9fb91ed6",
   "metadata": {},
   "source": [
    "## Task 4\n",
    "### ➤ Measure memory usage of functions using memory_profiler."
   ]
  },
  {
   "cell_type": "code",
   "execution_count": null,
   "id": "d8c6b201",
   "metadata": {},
   "outputs": [],
   "source": [
    "# Your code here"
   ]
  },
  {
   "cell_type": "markdown",
   "id": "28a1a81d",
   "metadata": {},
   "source": [
    "## Task 5\n",
    "### ➤ Benchmark execution time of code blocks using timeit."
   ]
  },
  {
   "cell_type": "code",
   "execution_count": null,
   "id": "c2b7db9d",
   "metadata": {},
   "outputs": [],
   "source": [
    "# Your code here"
   ]
  },
  {
   "cell_type": "markdown",
   "id": "2a32a5da",
   "metadata": {},
   "source": [
    "## Task 6\n",
    "### ➤ Demonstrate parallel processing using multiprocessing Pool."
   ]
  },
  {
   "cell_type": "code",
   "execution_count": null,
   "id": "681a5043",
   "metadata": {},
   "outputs": [],
   "source": [
    "# Your code here"
   ]
  },
  {
   "cell_type": "markdown",
   "id": "f7cfd360",
   "metadata": {},
   "source": [
    "## Task 7\n",
    "### ➤ Mini Task: Combine profiling, timing, and hashing in a single pipeline."
   ]
  },
  {
   "cell_type": "code",
   "execution_count": null,
   "id": "ef134ae5",
   "metadata": {},
   "outputs": [],
   "source": [
    "# Your code here"
   ]
  },
  {
   "cell_type": "markdown",
   "id": "ef2fc382",
   "metadata": {},
   "source": [
    "## ✅ Conclusion\n",
    "Write your observations about:\n",
    "- What you learned\n",
    "- Any errors encountered\n",
    "- Real-world application of this topic"
   ]
  },
  {
   "cell_type": "markdown",
   "id": "55714cd3",
   "metadata": {},
   "source": [
    "Your notes here..."
   ]
  }
 ],
 "metadata": {},
 "nbformat": 4,
 "nbformat_minor": 5
}
