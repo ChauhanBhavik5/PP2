{
 "cells": [
  {
   "cell_type": "markdown",
   "id": "f89f907d",
   "metadata": {},
   "source": [
    "# 🧪 PP2 Lab Practical – DataFrames using Pandas\n",
    "**Aim:**\n",
    "*To create and manipulate DataFrames using Pandas library from various sources like CSV, Excel, dictionaries, and tuples.*"
   ]
  },
  {
   "cell_type": "markdown",
   "id": "95772905",
   "metadata": {},
   "source": [
    "## Task 1\n",
    "### ➤ Create DataFrame from a dictionary and display basic stats."
   ]
  },
  {
   "cell_type": "code",
   "execution_count": null,
   "id": "82a68c9a",
   "metadata": {},
   "outputs": [],
   "source": [
    "# Your code here"
   ]
  },
  {
   "cell_type": "markdown",
   "id": "30404741",
   "metadata": {},
   "source": [
    "## Task 2\n",
    "### ➤ Load data from a CSV file and perform filtering."
   ]
  },
  {
   "cell_type": "code",
   "execution_count": null,
   "id": "a01c9bec",
   "metadata": {},
   "outputs": [],
   "source": [
    "# Your code here"
   ]
  },
  {
   "cell_type": "markdown",
   "id": "a6b92793",
   "metadata": {},
   "source": [
    "## Task 3\n",
    "### ➤ Read data from Excel and sort based on a column."
   ]
  },
  {
   "cell_type": "code",
   "execution_count": null,
   "id": "40b13b80",
   "metadata": {},
   "outputs": [],
   "source": [
    "# Your code here"
   ]
  },
  {
   "cell_type": "markdown",
   "id": "66c29931",
   "metadata": {},
   "source": [
    "## Task 4\n",
    "### ➤ Add new columns and remove existing ones from DataFrame."
   ]
  },
  {
   "cell_type": "code",
   "execution_count": null,
   "id": "5881e536",
   "metadata": {},
   "outputs": [],
   "source": [
    "# Your code here"
   ]
  },
  {
   "cell_type": "markdown",
   "id": "3ac4ad80",
   "metadata": {},
   "source": [
    "## Task 5\n",
    "### ➤ Mini Task: Merge two DataFrames with common column."
   ]
  },
  {
   "cell_type": "code",
   "execution_count": null,
   "id": "38ed2abb",
   "metadata": {},
   "outputs": [],
   "source": [
    "# Your code here"
   ]
  },
  {
   "cell_type": "markdown",
   "id": "b2841348",
   "metadata": {},
   "source": [
    "## ✅ Conclusion\n",
    "Write your observations about:\n",
    "- What you learned\n",
    "- Any errors encountered\n",
    "- Real-world application of this topic"
   ]
  },
  {
   "cell_type": "markdown",
   "id": "e9128f14",
   "metadata": {},
   "source": [
    "Your notes here..."
   ]
  }
 ],
 "metadata": {},
 "nbformat": 4,
 "nbformat_minor": 5
}
