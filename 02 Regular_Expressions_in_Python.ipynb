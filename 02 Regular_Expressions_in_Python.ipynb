{
 "cells": [
  {
   "cell_type": "markdown",
   "id": "b0593bc7",
   "metadata": {},
   "source": [
    "# 🧪 PP2 Lab Practical – Regular Expressions in Python\n",
    "**Aim:**\n",
    "*To use regular expressions in Python to extract, match, and analyze data patterns from text and HTML files.*"
   ]
  },
  {
   "cell_type": "markdown",
   "id": "28a6c8a3",
   "metadata": {},
   "source": [
    "## Task 1\n",
    "### ➤ Write a regex to extract all email addresses from a given text file."
   ]
  },
  {
   "cell_type": "code",
   "execution_count": null,
   "id": "98fee20a",
   "metadata": {},
   "outputs": [],
   "source": [
    "# Your code here"
   ]
  },
  {
   "cell_type": "markdown",
   "id": "c754b42d",
   "metadata": {},
   "source": [
    "## Task 2\n",
    "### ➤ Match phone numbers of specific format using regex."
   ]
  },
  {
   "cell_type": "code",
   "execution_count": null,
   "id": "b3aa546f",
   "metadata": {},
   "outputs": [],
   "source": [
    "# Your code here"
   ]
  },
  {
   "cell_type": "markdown",
   "id": "90bfc53e",
   "metadata": {},
   "source": [
    "## Task 3\n",
    "### ➤ Use regex to extract headings from a simple HTML file."
   ]
  },
  {
   "cell_type": "code",
   "execution_count": null,
   "id": "0b5ab49e",
   "metadata": {},
   "outputs": [],
   "source": [
    "# Your code here"
   ]
  },
  {
   "cell_type": "markdown",
   "id": "b8c0b5f4",
   "metadata": {},
   "source": [
    "## Task 4\n",
    "### ➤ Use quantifiers and special characters to find repeated patterns."
   ]
  },
  {
   "cell_type": "code",
   "execution_count": null,
   "id": "748d7d8e",
   "metadata": {},
   "outputs": [],
   "source": [
    "# Your code here"
   ]
  },
  {
   "cell_type": "markdown",
   "id": "d44c098e",
   "metadata": {},
   "source": [
    "## Task 5\n",
    "### ➤ Mini Task: Validate date format (DD-MM-YYYY) using regex."
   ]
  },
  {
   "cell_type": "code",
   "execution_count": null,
   "id": "5a09b60c",
   "metadata": {},
   "outputs": [],
   "source": [
    "# Your code here"
   ]
  },
  {
   "cell_type": "markdown",
   "id": "8b9c5b31",
   "metadata": {},
   "source": [
    "## ✅ Conclusion\n",
    "Write your observations about:\n",
    "- What you learned\n",
    "- Any errors encountered\n",
    "- Real-world application of this topic"
   ]
  },
  {
   "cell_type": "markdown",
   "id": "4ffdb17a",
   "metadata": {},
   "source": [
    "Your notes here..."
   ]
  }
 ],
 "metadata": {},
 "nbformat": 4,
 "nbformat_minor": 5
}
