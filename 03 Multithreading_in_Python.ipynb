{
 "cells": [
  {
   "cell_type": "markdown",
   "id": "efbb9eb1",
   "metadata": {},
   "source": [
    "# 🧪 PP2 Lab Practical – Multithreading in Python\n",
    "**Aim:**\n",
    "*To implement multithreading in Python, including creating threads, synchronization, and demonstrating daemon threads and deadlocks.*"
   ]
  },
  {
   "cell_type": "markdown",
   "id": "3a8db296",
   "metadata": {},
   "source": [
    "## Task 1\n",
    "### ➤ Create multiple threads and demonstrate multitasking."
   ]
  },
  {
   "cell_type": "code",
   "execution_count": null,
   "id": "b36a401c",
   "metadata": {},
   "outputs": [],
   "source": [
    "# Your code here"
   ]
  },
  {
   "cell_type": "markdown",
   "id": "1a992b29",
   "metadata": {},
   "source": [
    "## Task 2\n",
    "### ➤ Synchronize access to a shared variable using threading.Lock()."
   ]
  },
  {
   "cell_type": "code",
   "execution_count": null,
   "id": "4b19caf5",
   "metadata": {},
   "outputs": [],
   "source": [
    "# Your code here"
   ]
  },
  {
   "cell_type": "markdown",
   "id": "74a049eb",
   "metadata": {},
   "source": [
    "## Task 3\n",
    "### ➤ Demonstrate a deadlock condition and resolve it."
   ]
  },
  {
   "cell_type": "code",
   "execution_count": null,
   "id": "704b2a0f",
   "metadata": {},
   "outputs": [],
   "source": [
    "# Your code here"
   ]
  },
  {
   "cell_type": "markdown",
   "id": "e14db0e4",
   "metadata": {},
   "source": [
    "## Task 4\n",
    "### ➤ Create and test a daemon thread."
   ]
  },
  {
   "cell_type": "code",
   "execution_count": null,
   "id": "da8f5ba0",
   "metadata": {},
   "outputs": [],
   "source": [
    "# Your code here"
   ]
  },
  {
   "cell_type": "markdown",
   "id": "dc50e33d",
   "metadata": {},
   "source": [
    "## Task 5\n",
    "### ➤ Mini Task: Countdown timer running on a separate thread."
   ]
  },
  {
   "cell_type": "code",
   "execution_count": null,
   "id": "00786486",
   "metadata": {},
   "outputs": [],
   "source": [
    "# Your code here"
   ]
  },
  {
   "cell_type": "markdown",
   "id": "d65fb909",
   "metadata": {},
   "source": [
    "## ✅ Conclusion\n",
    "Write your observations about:\n",
    "- What you learned\n",
    "- Any errors encountered\n",
    "- Real-world application of this topic"
   ]
  },
  {
   "cell_type": "markdown",
   "id": "7e5b260c",
   "metadata": {},
   "source": [
    "Your notes here..."
   ]
  }
 ],
 "metadata": {},
 "nbformat": 4,
 "nbformat_minor": 5
}
