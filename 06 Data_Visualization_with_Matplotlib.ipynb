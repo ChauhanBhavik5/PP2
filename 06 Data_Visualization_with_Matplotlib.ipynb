{
 "cells": [
  {
   "cell_type": "markdown",
   "id": "a5784aa4",
   "metadata": {},
   "source": [
    "# 🧪 PP2 Lab Practical – Data Visualization with Matplotlib\n",
    "**Aim:**\n",
    "*To visualize data using various types of graphs such as bar chart, histogram, pie chart, and line plot using matplotlib.*"
   ]
  },
  {
   "cell_type": "markdown",
   "id": "b88a188a",
   "metadata": {},
   "source": [
    "## Task 1\n",
    "### ➤ Create a bar chart to show student scores."
   ]
  },
  {
   "cell_type": "code",
   "execution_count": null,
   "id": "3955dd0c",
   "metadata": {},
   "outputs": [],
   "source": [
    "# Your code here"
   ]
  },
  {
   "cell_type": "markdown",
   "id": "362bf84f",
   "metadata": {},
   "source": [
    "## Task 2\n",
    "### ➤ Plot a line graph showing temperature changes over days."
   ]
  },
  {
   "cell_type": "code",
   "execution_count": null,
   "id": "be322c3c",
   "metadata": {},
   "outputs": [],
   "source": [
    "# Your code here"
   ]
  },
  {
   "cell_type": "markdown",
   "id": "f6d3c79b",
   "metadata": {},
   "source": [
    "## Task 3\n",
    "### ➤ Generate a pie chart showing market share of companies."
   ]
  },
  {
   "cell_type": "code",
   "execution_count": null,
   "id": "9bd41199",
   "metadata": {},
   "outputs": [],
   "source": [
    "# Your code here"
   ]
  },
  {
   "cell_type": "markdown",
   "id": "ee8c42b0",
   "metadata": {},
   "source": [
    "## Task 4\n",
    "### ➤ Create a histogram of student marks."
   ]
  },
  {
   "cell_type": "code",
   "execution_count": null,
   "id": "06b2d579",
   "metadata": {},
   "outputs": [],
   "source": [
    "# Your code here"
   ]
  },
  {
   "cell_type": "markdown",
   "id": "838b1633",
   "metadata": {},
   "source": [
    "## Task 5\n",
    "### ➤ Mini Task: Customize graph with labels, legend, title, and grid."
   ]
  },
  {
   "cell_type": "code",
   "execution_count": null,
   "id": "e8089f97",
   "metadata": {},
   "outputs": [],
   "source": [
    "# Your code here"
   ]
  },
  {
   "cell_type": "markdown",
   "id": "38ab74ce",
   "metadata": {},
   "source": [
    "## ✅ Conclusion\n",
    "Write your observations about:\n",
    "- What you learned\n",
    "- Any errors encountered\n",
    "- Real-world application of this topic"
   ]
  },
  {
   "cell_type": "markdown",
   "id": "809d3fe2",
   "metadata": {},
   "source": [
    "Your notes here..."
   ]
  }
 ],
 "metadata": {},
 "nbformat": 4,
 "nbformat_minor": 5
}
